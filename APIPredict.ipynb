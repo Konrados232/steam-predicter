{
 "cells": [
  {
   "cell_type": "markdown",
   "metadata": {},
   "source": [
    "# API Test"
   ]
  },
  {
   "cell_type": "code",
   "execution_count": 26,
   "metadata": {},
   "outputs": [],
   "source": [
    "import os\n",
    "import re\n",
    "import numpy as np\n",
    "import pandas as pd\n",
    "import matplotlib.pyplot as plt\n",
    "import seaborn as sns\n",
    "from sklearn import metrics\n",
    "from sklearn.linear_model import LogisticRegression\n",
    "from sklearn.base import BaseEstimator, TransformerMixin\n",
    "from sklearn.pipeline import Pipeline\n",
    "from sklearn.impute import SimpleImputer\n",
    "from sklearn.preprocessing import OneHotEncoder\n",
    "from sklearn.pipeline import FeatureUnion\n",
    "from sklearn.model_selection import StratifiedKFold\n",
    "from sklearn.model_selection import GridSearchCV\n",
    "from sklearn.model_selection import train_test_split\n",
    "from sklearn.neighbors import KNeighborsClassifier\n",
    "from sklearn.tree import DecisionTreeClassifier\n",
    "from sklearn.ensemble import RandomForestClassifier, ExtraTreesClassifier, BaggingClassifier, AdaBoostClassifier, GradientBoostingClassifier\n",
    "from sklearn.svm import SVC, LinearSVC\n",
    "from sklearn.pipeline import Pipeline\n",
    "from sklearn.model_selection import GridSearchCV\n",
    "from sklearn.preprocessing import StandardScaler\n",
    "from sklearn.pipeline import Pipeline\n",
    "from sklearn.linear_model import LogisticRegression\n",
    "from sklearn.model_selection import StratifiedKFold\n",
    "from sklearn.metrics import confusion_matrix\n",
    "from keras.layers import Dropout\n",
    "from keras.layers import BatchNormalization\n",
    "from keras.callbacks import EarlyStopping\n",
    "\n",
    "from tensorflow import keras\n",
    "from keras.models import Sequential\n",
    "from keras.layers import Dense\n",
    "from keras.callbacks import History\n",
    "from keras import backend\n",
    "from keras.layers import Dropout\n",
    "from keras.layers import BatchNormalization\n",
    "from keras.callbacks import EarlyStopping"
   ]
  },
  {
   "cell_type": "code",
   "execution_count": 27,
   "metadata": {},
   "outputs": [],
   "source": [
    "FINAL_DATASET_PATH = os.path.join(\"final_dataset\", \"final_dataset.csv\")\n",
    "\n",
    "whole_steam_data = pd.read_csv(FINAL_DATASET_PATH)"
   ]
  },
  {
   "cell_type": "code",
   "execution_count": 28,
   "metadata": {},
   "outputs": [],
   "source": [
    "class DataFrameSelector(BaseEstimator, TransformerMixin):\n",
    "    def __init__(self, attribute_names):\n",
    "        self.attribute_names = attribute_names\n",
    "    def fit(self, X, y=None):\n",
    "        return self\n",
    "    def transform(self, X):\n",
    "        return X[self.attribute_names]\n",
    "\n",
    "class MostFrequentImputer(BaseEstimator, TransformerMixin):\n",
    "    def fit(self, X, y=None):\n",
    "        self.most_frequent_ = pd.Series([X[c].value_counts().index[0] for c in X],\n",
    "                                        index=X.columns)\n",
    "        return self\n",
    "    def transform(self, X, y=None):\n",
    "        return X.fillna(self.most_frequent_)\n",
    "\n",
    "num_pipeline = Pipeline([\n",
    "        (\"select_numeric\", DataFrameSelector([\"english\", \"windows\", \"mac\", \"linux\", \"achievements\", \"average_playtime\", \"median_playtime\", \"owners\", \"price\", \"Indie\", \"Action\", \"Adventure\", \"Casual\", \"Strategy\", \"Simulation\", \"RPG\", \"Early Access\", \"Free to Play\", \"Puzzle\", \"Racing\", \"VR\", \"Sports\", \"Anime\", \"Visual Novel\", \"Platformer\", \"Point & Click\", \"Horror\", \"Nudity\", \"FPS\", \"Multiplayer\", \"Sexual Content\", \"Violent\", \"Gore\", \"Massively Multiplayer\", \"Hidden Object\", \"Open World\", \"Survival\", \"Pixel Graphics\", \"Space\", \"Female Protagonist\", \"Shoot 'Em Up\", \"RTS\", \"Classic\", \"Turn-Based\", \"Arcade\", \"Sci-fi\", \"Story Rich\", \"Tower Defense\", \"Zombies\", \"Singleplayer\", \"World War II\", \"Card Game\", \"RPGMaker\", \"Great Soundtrack\", \"Management\", \"Co-op\", \"Fighting\", \"2D\", \"Turn-Based Strategy\", \"Fantasy\", \"Utilities\", \"Rogue-like\", \"Sandbox\", \"JRPG\", \"Board Game\", \"Retro\", \"Stealth\", \"Comedy\", \"Shooter\", \"Music\", \"Hack and Slash\", \"Bullet Hell\", \"Atmospheric\", \"First-Person\", \"City Builder\", \"Historical\", \"Psychological Horror\", \"Family Friendly\", \"Memes\", \"Match 3\", \"Mystery\", \"Difficult\", \"Local Multiplayer\", \"Driving\", \"Design & Illustration\", \"Cyberpunk\", \"Flight\", \"Building\", \"Clicker\", \"Walking Simulator\", \"Metroidvania\", \"Education\", \"Single-player\", \"Steam Achievements\", \"Steam Trading Cards\", \"Steam Cloud\", \"Full controller support\", \"Multi-player\", \"Partial Controller Support\", \"Steam Leaderboards\", \"Online Multi-Player\", \"Shared/Split Screen\", \"Stats\", \"Co-op\", \"Local Multi-Player\", \"Cross-Platform Multiplayer\", \"Online Co-op\", \"Includes level editor\", \"Steam Workshop\", \"Local Co-op\", \"Captions available\", \"In-App Purchases\", \"MMO\", \"VR Support\", \"Commentary available\", \"Valve Anti-Cheat enabled\", \"Steam Turn Notifications\", \"SteamVR Collectibles\", \"Includes Source SDK\", \"Mods\"])),\n",
    "        (\"scaler\", StandardScaler()),\n",
    "        (\"imputer\", SimpleImputer(strategy=\"median\")),\n",
    "    ])\n",
    "\n",
    "\n",
    "# from future_encoders import OneHotEncoder\n",
    "cat_pipeline = Pipeline([\n",
    "        (\"select_cat\", DataFrameSelector([\"desc\", \"name\", \"developer\", \"release_date\"])),\n",
    "        #(\"select_cat\", DataFrameSelector([\"developer\"])),\n",
    "        (\"imputer\", MostFrequentImputer()),\n",
    "        (\"cat_encoder\", OneHotEncoder(sparse=False, handle_unknown='ignore')),\n",
    "    ])\n",
    "\n",
    "preprocess_pipeline = FeatureUnion(transformer_list=[\n",
    "        (\"num_pipeline\", num_pipeline),\n",
    "        (\"cat_pipeline\", cat_pipeline),\n",
    "    ])\n"
   ]
  },
  {
   "cell_type": "code",
   "execution_count": 29,
   "metadata": {},
   "outputs": [
    {
     "name": "stdout",
     "output_type": "stream",
     "text": [
      "(640, 131) (640,)\n",
      "(160, 131) (160,)\n"
     ]
    },
    {
     "data": {
      "text/plain": [
       "array([[0., 0., 0., ..., 0., 0., 0.],\n",
       "       [0., 0., 0., ..., 0., 0., 0.],\n",
       "       [0., 0., 0., ..., 0., 0., 0.],\n",
       "       ...,\n",
       "       [0., 0., 0., ..., 0., 0., 0.],\n",
       "       [0., 0., 0., ..., 0., 0., 0.],\n",
       "       [0., 0., 0., ..., 0., 0., 0.]])"
      ]
     },
     "execution_count": 29,
     "metadata": {},
     "output_type": "execute_result"
    }
   ],
   "source": [
    "from sklearn.model_selection import train_test_split\n",
    "\n",
    "# 500, 800, 1000, 3600, 5000, 8200, 10_000, 12_000\n",
    "\n",
    "temp_steam_data = whole_steam_data.head(800)\n",
    "\n",
    "X = temp_steam_data.loc[:, temp_steam_data.columns != \"user_reviews\"]\n",
    "y = temp_steam_data[\"user_reviews\"]\n",
    "\n",
    "# X = whole_steam_data.loc[:, whole_steam_data.columns != \"user_reviews\"]\n",
    "# y = whole_steam_data[\"user_reviews\"]\n",
    "\n",
    "X_train, X_test, y_train, y_test = train_test_split(X, y, test_size=0.2, random_state=42)\n",
    "\n",
    "print(X_train.shape, y_train.shape)\n",
    "print(X_test.shape, y_test.shape)\n",
    "\n",
    "\n",
    "num_pipeline.fit_transform(X_train)\n",
    "\n",
    "cat_pipeline.fit_transform(X_train)"
   ]
  },
  {
   "cell_type": "code",
   "execution_count": 30,
   "metadata": {},
   "outputs": [],
   "source": [
    "test_path = os.path.join(\"test.csv\")\n",
    "\n",
    "test_steam = pd.read_csv(test_path)\n",
    "\n",
    "\n",
    "test_steam_X = test_steam.loc[:, test_steam.columns != \"user_reviews\"]\n",
    "test_steam_y = test_steam[\"user_reviews\"]\n",
    "\n",
    "test_steam_X_scaled = preprocess_pipeline.transform(test_steam_X)"
   ]
  },
  {
   "cell_type": "code",
   "execution_count": 31,
   "metadata": {},
   "outputs": [
    {
     "name": "stdout",
     "output_type": "stream",
     "text": [
      "WARNING:tensorflow:5 out of the last 5 calls to <function Model.make_predict_function.<locals>.predict_function at 0x000001B868768820> triggered tf.function retracing. Tracing is expensive and the excessive number of tracings could be due to (1) creating @tf.function repeatedly in a loop, (2) passing tensors with different shapes, (3) passing Python objects instead of tensors. For (1), please define your @tf.function outside of the loop. For (2), @tf.function has experimental_relax_shapes=True option that relaxes argument shapes that can avoid unnecessary retracing. For (3), please refer to https://www.tensorflow.org/guide/function#controlling_retracing and https://www.tensorflow.org/api_docs/python/tf/function for  more details.\n"
     ]
    },
    {
     "data": {
      "text/plain": [
       "array([[0.51195014],\n",
       "       [0.71519613],\n",
       "       [0.58772606],\n",
       "       [0.10402623],\n",
       "       [0.02290966],\n",
       "       [0.        ],\n",
       "       [0.        ],\n",
       "       [0.        ],\n",
       "       [0.7477514 ],\n",
       "       [0.877059  ],\n",
       "       [1.04514   ],\n",
       "       [1.1546992 ],\n",
       "       [1.1250917 ],\n",
       "       [0.9345016 ],\n",
       "       [0.18899597]], dtype=float32)"
      ]
     },
     "execution_count": 31,
     "metadata": {},
     "output_type": "execute_result"
    }
   ],
   "source": [
    "model_path = os.path.join(\"model\")\n",
    "\n",
    "epic_model = keras.models.load_model(model_path)\n",
    "\n",
    "epic_model.predict(test_steam_X_scaled)\n",
    "\n",
    "\n"
   ]
  }
 ],
 "metadata": {
  "interpreter": {
   "hash": "9e291c07998e5ab1f4e283cd2b79a6cd62004211d2e3815d14332b2a61a8605f"
  },
  "kernelspec": {
   "display_name": "Python 3.9.12 ('tf_gpu')",
   "language": "python",
   "name": "python3"
  },
  "language_info": {
   "codemirror_mode": {
    "name": "ipython",
    "version": 3
   },
   "file_extension": ".py",
   "mimetype": "text/x-python",
   "name": "python",
   "nbconvert_exporter": "python",
   "pygments_lexer": "ipython3",
   "version": "3.9.12"
  },
  "orig_nbformat": 4
 },
 "nbformat": 4,
 "nbformat_minor": 2
}
